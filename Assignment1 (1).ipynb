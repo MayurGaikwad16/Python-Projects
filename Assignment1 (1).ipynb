{
 "cells": [
  {
   "cell_type": "code",
   "execution_count": null,
   "id": "115167a9",
   "metadata": {},
   "outputs": [],
   "source": [
    "#1\n",
    "num1 = float(input(\"Enter the number: \"))\n",
    "num2 = float(input(\"Enter the number: \"))\n",
    "\n",
    "if num1>=num2:\n",
    "    print(num1)\n",
    "else :\n",
    "    print(num2)\n"
   ]
  },
  {
   "cell_type": "code",
   "execution_count": null,
   "id": "831dc27d",
   "metadata": {},
   "outputs": [],
   "source": [
    "#2\n",
    "month = int(input(\"Enter the month Number 1-12: \"))\n",
    "\n",
    "if month<=3:\n",
    "    print(\"Spring\")\n",
    "elif month<=6:\n",
    "    print(\"Summer\")\n",
    "elif month<=9:\n",
    "    print(\"Fall\")\n",
    "else :\n",
    "    print(\"Winter\")\n"
   ]
  },
  {
   "cell_type": "code",
   "execution_count": null,
   "id": "f53b51a9",
   "metadata": {},
   "outputs": [],
   "source": [
    "#3\n",
    "year = int(input(\"enter the year :\"))\n",
    "\n",
    "if year%400==0:\n",
    "    print(\"It is leap year\")\n",
    "elif year%100==0:\n",
    "    print(\"It is not a leap year\")\n",
    "elif year%4==0:\n",
    "    print(\"It is a leap year \")\n",
    "else :\n",
    "    print(\"It is not aleap year\")"
   ]
  },
  {
   "cell_type": "code",
   "execution_count": null,
   "id": "49f9e19b",
   "metadata": {},
   "outputs": [],
   "source": [
    "#4\n",
    "num = float(input(\"Enter the number :\"))\n",
    "\n",
    "if num>=1:\n",
    "    print(\"Positive\")\n",
    "elif num==0:\n",
    "    print(\"Zero\")\n",
    "else :\n",
    "    print(\"Negative\")\n",
    "    "
   ]
  },
  {
   "cell_type": "code",
   "execution_count": null,
   "id": "dfb7c26b",
   "metadata": {},
   "outputs": [],
   "source": [
    "#5\n",
    "age = int(input(\"Your age :\"))\n",
    "gender = input(\"Your gender (M/F) :\")\n",
    "\n",
    "if age<25 :\n",
    "    if gender==\"M\":\n",
    "        print(\"You are a young man\")\n",
    "    elif gender==\"F\":\n",
    "        print(\"You are a young women\")\n",
    "        \n",
    "else :\n",
    "    if gender==\"M\":\n",
    "        print(\"You are a old man\")\n",
    "    elif gender==\"F\":\n",
    "        print(\"You are a old women\")"
   ]
  },
  {
   "cell_type": "code",
   "execution_count": null,
   "id": "068305ad",
   "metadata": {},
   "outputs": [],
   "source": [
    "#6\n",
    "Celsius = float(input(\"Enter the temperature: \"))\n",
    "\n",
    "Fahrenheit = (Celsius*9/5)+32\n",
    "\n",
    "print(\"Celsius to fahrenheit conversionin fahrenheit is : \", Fahrenheit)"
   ]
  },
  {
   "cell_type": "code",
   "execution_count": null,
   "id": "bd5bbc5a",
   "metadata": {},
   "outputs": [],
   "source": [
    "#7\n",
    "weight = int(input(\"weight of the package in pounds :\"))\n",
    "\n",
    "if weight<=2:\n",
    "    print(\"cost is 5$\")\n",
    "elif weight<=10:\n",
    "    print(\"cost is 10$\")\n",
    "else :\n",
    "    print(\"cost is 15$\")\n",
    "    "
   ]
  },
  {
   "cell_type": "code",
   "execution_count": null,
   "id": "5b5e0ab0",
   "metadata": {},
   "outputs": [],
   "source": [
    "#8\n",
    "num1 = int(input(\"Enter the number :\"))\n",
    "num2 = int(input(\"Enter the number :\"))\n",
    "num3 = int(input(\"Enter the number :\"))\n",
    "\n",
    "my_list = [num1,num2,num3]\n",
    "\n",
    "sorted(my_list )\n",
    "\n"
   ]
  },
  {
   "cell_type": "code",
   "execution_count": null,
   "id": "b0464a9a",
   "metadata": {},
   "outputs": [],
   "source": [
    "#9\n",
    "year = int(input(\"Enter the year :\"))\n",
    "\n",
    "if year%100==0:\n",
    "    if year%400==0:\n",
    "        print(\"It is a leap year century\")\n",
    "    else: \n",
    "        print(\"Not a century leap year\")\n",
    "        \n",
    "else :\n",
    "    print(\"Not a century year\")\n",
    "    "
   ]
  },
  {
   "cell_type": "code",
   "execution_count": null,
   "id": "a813174f",
   "metadata": {},
   "outputs": [],
   "source": [
    "#10\n",
    "num = int(input(\"Enter the number :\"))\n",
    "\n",
    "if num%2==0:\n",
    "    print(\"It is even number \")\n",
    "\n",
    "else :\n",
    "    print(\"It is odd number\")\n",
    "    \n",
    "    "
   ]
  },
  {
   "cell_type": "code",
   "execution_count": null,
   "id": "2ee3add1",
   "metadata": {},
   "outputs": [],
   "source": []
  }
 ],
 "metadata": {
  "kernelspec": {
   "display_name": "Python 3 (ipykernel)",
   "language": "python",
   "name": "python3"
  },
  "language_info": {
   "codemirror_mode": {
    "name": "ipython",
    "version": 3
   },
   "file_extension": ".py",
   "mimetype": "text/x-python",
   "name": "python",
   "nbconvert_exporter": "python",
   "pygments_lexer": "ipython3",
   "version": "3.11.5"
  }
 },
 "nbformat": 4,
 "nbformat_minor": 5
}
