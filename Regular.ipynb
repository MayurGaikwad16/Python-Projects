{
 "cells": [
  {
   "cell_type": "markdown",
   "id": "684f934b",
   "metadata": {},
   "source": [
    "## Part A: Classes in Python"
   ]
  },
  {
   "cell_type": "code",
   "execution_count": 1,
   "id": "fa5b4f99",
   "metadata": {},
   "outputs": [
    {
     "name": "stdout",
     "output_type": "stream",
     "text": [
      "Mayur 15 82\n",
      "Prathmesh 14 70\n"
     ]
    }
   ],
   "source": [
    "#1\n",
    "class Student :\n",
    "    def __init__(self,name,age,grade):\n",
    "        self.name = name\n",
    "        self.age = age\n",
    "        self.grade = grade\n",
    "        \n",
    "student_1 = Student('Mayur',15,82)\n",
    "\n",
    "student_2 = Student('Prathmesh',14,70)\n",
    "  \n",
    "        \n",
    "print(student_1.name,student_1.age,student_1.grade)\n",
    "print(student_2.name,student_2.age,student_2.grade)\n"
   ]
  },
  {
   "cell_type": "code",
   "execution_count": 2,
   "id": "1e6f56b8",
   "metadata": {},
   "outputs": [],
   "source": [
    "#2\n",
    "def is_passing(grade):\n",
    "        if grade>=50:\n",
    "            return True\n",
    "        else :\n",
    "            return False \n"
   ]
  },
  {
   "cell_type": "code",
   "execution_count": 3,
   "id": "0ec8b7ab",
   "metadata": {},
   "outputs": [
    {
     "name": "stdout",
     "output_type": "stream",
     "text": [
      "***If result = True Student is pass and If result = False Student is fail***\n",
      "Vaibhav True\n",
      "Rohan False\n"
     ]
    }
   ],
   "source": [
    "print (\"***If result = True Student is pass and If result = False Student is fail***\")\n",
    "\n",
    "student_3 = Student('Vaibhav',14,91)\n",
    "\n",
    "student_4 = Student('Rohan',15,48)\n",
    "\n",
    "print (student_3.name,is_passing(student_3.grade))\n",
    "print (student_4.name,is_passing(student_4.grade))\n"
   ]
  },
  {
   "cell_type": "code",
   "execution_count": 4,
   "id": "c5127a8b",
   "metadata": {},
   "outputs": [
    {
     "name": "stdout",
     "output_type": "stream",
     "text": [
      "Akash 18 86 Grand Gurukul School\n",
      "Shubham 17 67 MGV School\n",
      "Darshan 18 42 Carmel Convent School\n"
     ]
    }
   ],
   "source": [
    "#3\n",
    "class High_School_Student(Student) :\n",
    "    \n",
    "    def __init__(self,name,age,grade,school_name):\n",
    "        super().__init__(name,age,grade)\n",
    "        self.school_name = school_name\n",
    "        \n",
    "HS_1 = High_School_Student('Akash',18,86,'Grand Gurukul School')\n",
    "HS_2 = High_School_Student('Shubham',17,67,'MGV School')\n",
    "HS_3 = High_School_Student('Darshan',18,42,'Carmel Convent School')\n",
    "\n",
    "print(HS_1.name,HS_1.age,HS_1.grade,HS_1.school_name)\n",
    "print(HS_2.name,HS_2.age,HS_2.grade,HS_2.school_name)\n",
    "print(HS_3.name,HS_3.age,HS_3.grade,HS_3.school_name)\n"
   ]
  },
  {
   "cell_type": "markdown",
   "id": "0d6333f0",
   "metadata": {},
   "source": [
    "## Part B: Functions in Python"
   ]
  },
  {
   "cell_type": "code",
   "execution_count": 5,
   "id": "beaffdb5",
   "metadata": {},
   "outputs": [],
   "source": [
    "#4\n",
    "def calculate_rectangle_area(length,width):\n",
    "    return length*width"
   ]
  },
  {
   "cell_type": "code",
   "execution_count": 6,
   "id": "e210915d",
   "metadata": {},
   "outputs": [
    {
     "name": "stdout",
     "output_type": "stream",
     "text": [
      "180\n",
      "175\n",
      "297\n"
     ]
    }
   ],
   "source": [
    "#(1) length = 12 & width = 15\n",
    "print (calculate_rectangle_area(12,15))\n",
    "\n",
    "#(2) length = 25 & width = 7\n",
    "print (calculate_rectangle_area(25,7))\n",
    "\n",
    "#(3) length = 9 & width = 33\n",
    "print (calculate_rectangle_area(9,33))"
   ]
  },
  {
   "cell_type": "code",
   "execution_count": null,
   "id": "bf415b3b",
   "metadata": {},
   "outputs": [],
   "source": []
  },
  {
   "cell_type": "code",
   "execution_count": 7,
   "id": "e8eaba3f",
   "metadata": {},
   "outputs": [],
   "source": [
    "#5\n",
    "def greet(name, greet=\"Hello\"):\n",
    "    return f\"{greet},{name}!\""
   ]
  },
  {
   "cell_type": "code",
   "execution_count": 8,
   "id": "266c3c66",
   "metadata": {},
   "outputs": [
    {
     "name": "stdout",
     "output_type": "stream",
     "text": [
      "Hello,Mayur!\n",
      "Hey,Jay!\n"
     ]
    }
   ],
   "source": [
    "print (greet(\"Mayur\"))\n",
    "print (greet(\"Jay\",\"Hey\"))"
   ]
  },
  {
   "cell_type": "code",
   "execution_count": null,
   "id": "e1d919ff",
   "metadata": {},
   "outputs": [],
   "source": []
  },
  {
   "cell_type": "code",
   "execution_count": 9,
   "id": "dd51042b",
   "metadata": {},
   "outputs": [],
   "source": [
    "#6\n",
    "def calculate_average(*args):\n",
    "    total = sum(args)\n",
    "    return total/len(args)"
   ]
  },
  {
   "cell_type": "code",
   "execution_count": 10,
   "id": "eb27be91",
   "metadata": {},
   "outputs": [
    {
     "data": {
      "text/plain": [
       "12.5"
      ]
     },
     "execution_count": 10,
     "metadata": {},
     "output_type": "execute_result"
    }
   ],
   "source": [
    "calculate_average(5,10,15,20)"
   ]
  }
 ],
 "metadata": {
  "kernelspec": {
   "display_name": "Python 3 (ipykernel)",
   "language": "python",
   "name": "python3"
  },
  "language_info": {
   "codemirror_mode": {
    "name": "ipython",
    "version": 3
   },
   "file_extension": ".py",
   "mimetype": "text/x-python",
   "name": "python",
   "nbconvert_exporter": "python",
   "pygments_lexer": "ipython3",
   "version": "3.11.5"
  }
 },
 "nbformat": 4,
 "nbformat_minor": 5
}
