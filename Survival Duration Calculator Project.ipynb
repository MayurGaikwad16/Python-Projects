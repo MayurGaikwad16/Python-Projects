{
 "cells": [
  {
   "cell_type": "code",
   "execution_count": 7,
   "id": "d5f2c1a5",
   "metadata": {},
   "outputs": [
    {
     "name": "stdout",
     "output_type": "stream",
     "text": [
      "Enter the Age (In Years): 10\n",
      "Enter the Time Unit[Months(1)/Weeks(2)/Days(3)/Hours(4)/Minutes(5)/Seconds(6)]: 1\n",
      "The duration of time is  120 Months\n",
      "Leap Year not included.\n"
     ]
    }
   ],
   "source": [
    "\n",
    "age =int(input(\"Enter the Age (In Years): \"))\n",
    "\n",
    "time_unit = int(input(\"Enter the Time Unit[Months(1)/Weeks(2)/Days(3)/Hours(4)/Minutes(5)/Seconds(6)]: \"))\n",
    "\n",
    "if time_unit == 1:\n",
    "    print(\"The duration of time is \",age*12,\"Months\")\n",
    "elif time_unit == 2:\n",
    "    print(\"The duration of time is \",int(age*365/7),\"Weeks\")\n",
    "elif time_unit == 3:\n",
    "    print(\"The duration of time is \",age*365,\"Days\")\n",
    "elif time_unit == 4:\n",
    "    print(\"The duration of time is \",age*365*24,\"Hours\")\n",
    "elif time_unit == 5:\n",
    "    print(\"The duration of time is \",age*365*24*60,\"Minutes\")\n",
    "elif time_unit == 6:\n",
    "    print(\"The duration of time is \",age*365*24*60*60,\"Seconds\")\n",
    "else:\n",
    "    print(\"Select appropriate option.\")\n",
    "\n",
    "print(\"Leap Year not included.\")\n",
    "    "
   ]
  },
  {
   "cell_type": "code",
   "execution_count": null,
   "id": "3b81862b",
   "metadata": {},
   "outputs": [],
   "source": []
  }
 ],
 "metadata": {
  "kernelspec": {
   "display_name": "Python 3 (ipykernel)",
   "language": "python",
   "name": "python3"
  },
  "language_info": {
   "codemirror_mode": {
    "name": "ipython",
    "version": 3
   },
   "file_extension": ".py",
   "mimetype": "text/x-python",
   "name": "python",
   "nbconvert_exporter": "python",
   "pygments_lexer": "ipython3",
   "version": "3.11.5"
  }
 },
 "nbformat": 4,
 "nbformat_minor": 5
}
