{
 "cells": [
  {
   "cell_type": "code",
   "execution_count": null,
   "id": "35e7d96b",
   "metadata": {},
   "outputs": [
    {
     "name": "stdout",
     "output_type": "stream",
     "text": [
      "Welcome to the Library Management System!\n",
      "\n",
      "Available Options:\n",
      "1. Display available books\n",
      "2. Borrow a book\n",
      "3. Return a book\n",
      "4. Exit the system\n"
     ]
    }
   ],
   "source": [
    "def welcome():  \n",
    "    print(\"Welcome to the Library Management System!\") \n",
    "def display_options():  \n",
    "    print(\"\\nAvailable Options:\")  \n",
    "    print(\"1. Display available books\")\n",
    "    print(\"2. Borrow a book\") \n",
    "    print(\"3. Return a book\") \n",
    "    print(\"4. Exit the system\") \n",
    "\n",
    "def display_books(inventory): \n",
    "    print(\"\\nAvailable Books:\") \n",
    "    for book, quantity in inventory.items(): \n",
    "        if quantity > 0: \n",
    "            print(f\"{book}: {quantity} copies available\") \n",
    "            \n",
    "def borrow_book(inventory): \n",
    "    book = input(\"\\nEnter the title of the book you want to borrow: \") \n",
    "    if book in inventory and inventory[book] > 0: \n",
    "        inventory[book] -= 1 \n",
    "        print(f\"\\nYou have successfully borrowed a copy of '{book}'.\") \n",
    "    else:\n",
    "        print(f\"\\nSorry, '{book}' is not available for borrowing.\") \n",
    "def return_book(inventory):\n",
    "    book = input(\"\\nEnter the title of the book you want to return: \") \n",
    "    if book in inventory: \n",
    "        inventory[book] += 1 \n",
    "        print(f\"\\nYou have successfully returned a copy of '{book}'.\")\n",
    "    else:\n",
    "        print(f\"\\nSorry, we do not recognize the book '{book}'.\") \n",
    "\n",
    "def main(): \n",
    "    welcome() \n",
    "    \n",
    "    inventory = {\"To Kill a Mockingbird\": 10,\n",
    "                 \"1984\": 5,\n",
    "                 \"The Catcher in the Rye\":7,\n",
    "                 \"Harry Potter and the Philosopher's Stone\": 15,\n",
    "                 \"The Hobbit\": 8, } \n",
    "    while True:\n",
    "        display_options() \n",
    "        option = input(\"\\nEnter the number of your desired option: \") \n",
    "        if option == \"1\": \n",
    "            display_books(inventory) \n",
    "        elif option == \"2\": \n",
    "            borrow_book(inventory) \n",
    "        elif option == \"3\": \n",
    "            return_book(inventory) \n",
    "        elif option == \"4\":\n",
    "            print(\"\\nThank you for using the Library Management System!\") \n",
    "            break \n",
    "        else: \n",
    "            print(\"\\nInvalid option. Please try again.\")\n",
    "                                                                    \n",
    "if __name__ == \"__main__\": \n",
    "    main()"
   ]
  },
  {
   "cell_type": "code",
   "execution_count": null,
   "id": "d3a0e3bc",
   "metadata": {},
   "outputs": [],
   "source": []
  }
 ],
 "metadata": {
  "kernelspec": {
   "display_name": "Python 3 (ipykernel)",
   "language": "python",
   "name": "python3"
  },
  "language_info": {
   "codemirror_mode": {
    "name": "ipython",
    "version": 3
   },
   "file_extension": ".py",
   "mimetype": "text/x-python",
   "name": "python",
   "nbconvert_exporter": "python",
   "pygments_lexer": "ipython3",
   "version": "3.11.5"
  }
 },
 "nbformat": 4,
 "nbformat_minor": 5
}
